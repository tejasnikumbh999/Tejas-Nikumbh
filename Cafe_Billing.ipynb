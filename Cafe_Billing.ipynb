{
  "nbformat": 4,
  "nbformat_minor": 0,
  "metadata": {
    "colab": {
      "name": "Cafe_Billing.ipynb",
      "provenance": [],
      "authorship_tag": "ABX9TyMrhA1v/JOhQ+np+NjnIQnU",
      "include_colab_link": true
    },
    "kernelspec": {
      "name": "python3",
      "display_name": "Python 3"
    },
    "language_info": {
      "name": "python"
    }
  },
  "cells": [
    {
      "cell_type": "markdown",
      "metadata": {
        "id": "view-in-github",
        "colab_type": "text"
      },
      "source": [
        "<a href=\"https://colab.research.google.com/github/tejasnikumbh999/tejasnikumbh999/blob/main/Cafe_Billing.ipynb\" target=\"_parent\"><img src=\"https://colab.research.google.com/assets/colab-badge.svg\" alt=\"Open In Colab\"/></a>"
      ]
    },
    {
      "cell_type": "code",
      "source": [
        "from termcolor import colored"
      ],
      "metadata": {
        "id": "vlkHAQxx-5H8"
      },
      "execution_count": 2,
      "outputs": []
    },
    {
      "cell_type": "code",
      "execution_count": null,
      "metadata": {
        "id": "TqXPLeyF-gR6"
      },
      "outputs": [],
      "source": [
        "print(colored(('Welcome to Cafe KopTown.').center(200),'yellow', 'on_green',['dark','bold','underline','blink']))\n",
        "print('\\n')\n",
        "print(colored(('We serve healty to keep you healthy.').center(200),'red', 'on_white',['bold','dark']))\n",
        "n=input('\\nEnter your name : \\t')\n",
        "print(\"\"\"\\n  Today's menu:\n",
        "            'PaneerPizza':  90\n",
        "            'Burger':       40\n",
        "            'Fries':        75\n",
        "            'HotDogs':      10\n",
        "            'Pasta':        80\n",
        "            'FriedMaggi':   30\n",
        "            'Pastry':       30\n",
        "            'LavaCake':     35\n",
        "            'tea':          25\n",
        "            'coffee':       35\n",
        "            'ColdCoffee':   75\\n\"\"\")\n",
        "Menu={'PaneerPizza':90,'Burger':40,'Fries':75,'HotDogs':10,'Pasta':80,'FriedMaggi':30,'Pastry':30,'LavaCake':35,'tea':25,'coffee':35,'ColdCoffee':75}\n",
        "x=input('Enter the item along with the quantity (Item-1 Quantity Item-2 Quantity ): \\t').split()\n",
        "bill=0\n",
        "for a in range (len (x)):\n",
        "  if x[a] in Menu:\n",
        "    for i in range (0,len(x),2):\n",
        "      bill=bill+Menu[x[i]]*int(x[i+1])\n",
        "    print('\\n')\n",
        "    print(f'Total Price : RS {bill}')\n",
        "    print('\\n')\n",
        "    print(f'Bill Amount (GST inclusive - 5 %): Rs  {bill*1.05}')\n",
        "    print('\\n')\n",
        "    break\n",
        "  else:\n",
        "    print('\\nSorry, Only recipes on the menu!\\n')\n",
        "    break\n",
        "print(colored((f'Thank You {n} ! Visit Again.').center(200),'white','on_green'))"
      ]
    },
    {
      "cell_type": "code",
      "source": [
        ""
      ],
      "metadata": {
        "id": "UdXbBHJxG0J0"
      },
      "execution_count": null,
      "outputs": []
    }
  ]
}
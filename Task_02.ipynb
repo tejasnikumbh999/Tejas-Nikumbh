{
  "nbformat": 4,
  "nbformat_minor": 0,
  "metadata": {
    "colab": {
      "name": "Assignment02.ipynb",
      "provenance": [],
      "collapsed_sections": [],
      "authorship_tag": "ABX9TyM2bKdpnkwjqWKV67tSc/zQ",
      "include_colab_link": true
    },
    "kernelspec": {
      "name": "python3",
      "display_name": "Python 3"
    },
    "language_info": {
      "name": "python"
    }
  },
  "cells": [
    {
      "cell_type": "markdown",
      "metadata": {
        "id": "view-in-github",
        "colab_type": "text"
      },
      "source": [
        "<a href=\"https://colab.research.google.com/github/tejasnikumbh999/tejasnikumbh999/blob/main/Task_02.ipynb\" target=\"_parent\"><img src=\"https://colab.research.google.com/assets/colab-badge.svg\" alt=\"Open In Colab\"/></a>"
      ]
    },
    {
      "cell_type": "code",
      "execution_count": null,
      "metadata": {
        "id": "ggZW9mGQq-gP"
      },
      "outputs": [],
      "source": [
        "#task 2\n",
        "#Tejas Nikumbh\n",
        "\n",
        "file=open(\"tejas.txt\",\"a\")                                                      #create and open file (append mode)\n",
        "file.write(\"\\n\")                                                                #new line\n",
        "text=input().split()                                                            #take space seperated user inputs\n",
        "te=list(map(lambda x: x.capitalize()+ \" \",text))                                #capitalize each word using lambda function\n",
        "file.writelines(te)                                                             #append line\n",
        "file.write(\"\\n\")                                                                #new line\n",
        "mob=input()                                                                     #take mobile number as inputs\n",
        "if len(mob)==10 and mob.isnumeric()==True:                                      #verify mobile number\n",
        "  file.writelines(mob)                                                          #append line\n",
        "file.close()                                                                    #close file\n",
        "file1=open(\"tejas.txt\",\"r\")                                                     #open file(read mode)\n",
        "print(file1.read())                                                             #print file\n",
        "file.close()                                                                    #close file"
      ]
    }
  ]
}
{
  "nbformat": 4,
  "nbformat_minor": 0,
  "metadata": {
    "colab": {
      "name": "Assignment1.ipynb",
      "provenance": [],
      "collapsed_sections": [],
      "authorship_tag": "ABX9TyPrn+gINSEVmb0DCuDiy1fA",
      "include_colab_link": true
    },
    "kernelspec": {
      "name": "python3",
      "display_name": "Python 3"
    },
    "language_info": {
      "name": "python"
    }
  },
  "cells": [
    {
      "cell_type": "markdown",
      "metadata": {
        "id": "view-in-github",
        "colab_type": "text"
      },
      "source": [
        "<a href=\"https://colab.research.google.com/github/tejasnikumbh999/tejasnikumbh999/blob/main/Task_01.ipynb\" target=\"_parent\"><img src=\"https://colab.research.google.com/assets/colab-badge.svg\" alt=\"Open In Colab\"/></a>"
      ]
    },
    {
      "cell_type": "code",
      "execution_count": null,
      "metadata": {
        "id": "lPV0wM0mxD_S"
      },
      "outputs": [],
      "source": [
        "#task 1\n",
        "#Tejas Nikumbh\n",
        "\n",
        "fname=input()                                                                   #first name as input\n",
        "lname=input()                                                                   #last name as input\n",
        "mob=input()                                                                     #mail id as input\n",
        "gmail=input()                                                                   #gmail as input\n",
        "fname=fname.capitalize()                                                        #capitalize first name\n",
        "lname=lname.capitalize()                                                        #capitalize last name\n",
        "gmail=gmail.lower()                                                             #gmail to lower case\n",
        "if mob.isdigit()==True and len(mob)==10:                                        #check the conditions for mobile number\n",
        "    if gmail.endswith(\"@gmail.com\") and gmail[:-10].isalnum()==True:            #check the conditions for mail\n",
        "        print(fname)\n",
        "        print(fname)\n",
        "        print(mob)\n",
        "        print(gmail)                                                            #print if all conditions satisfied\n",
        "else:                                                                           #what if all conditions are not satisfied?\n",
        "    print(\"Please enter the inputs again.\")\n",
        "    print(\"\"\"Make sure that:\n",
        "    1. You don't have any constrains to input name.\n",
        "    2.Your mobile number consists of numbers only and the maximum length must be exactly 10.\n",
        "    3. Your gmail must be made out of a combination of alphabets and numbers,as well as must end with\\\\'@gmail.com\\\\'\"\"\")\n"
      ]
    }
  ]
}